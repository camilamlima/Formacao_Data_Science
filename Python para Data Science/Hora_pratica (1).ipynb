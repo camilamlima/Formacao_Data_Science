{
  "cells": [
    {
      "cell_type": "markdown",
      "source": [
        "\n",
        "#Coleta e amostragem de dados"
      ],
      "metadata": {
        "id": "8DvsD4aQ6Om7"
      }
    },
    {
      "cell_type": "markdown",
      "source": [
        "1. Crie um programa que solicite à pessoa usuária digitar seu nome, e imprima “Olá, [nome]!”."
      ],
      "metadata": {
        "id": "OxaCtgSe6bqZ"
      }
    },
    {
      "cell_type": "code",
      "source": [
        "nome = input(\"Digite seu nome: \")\n",
        "print(f\"Olá, {nome}!\")"
      ],
      "metadata": {
        "colab": {
          "base_uri": "https://localhost:8080/"
        },
        "id": "_Kcn6P1c6hks",
        "outputId": "1127d8da-64b3-4ba6-a447-a1269e73cc37"
      },
      "execution_count": 7,
      "outputs": [
        {
          "output_type": "stream",
          "name": "stdout",
          "text": [
            "Digite seu nome: Camila\n",
            "Olá, Camila!\n"
          ]
        }
      ]
    },
    {
      "cell_type": "markdown",
      "source": [
        "2. Crie um programa que solicite à pessoa usuária digitar seu nome e idade, e imprima “Olá, [nome], você tem [idade] anos.”."
      ],
      "metadata": {
        "id": "tw_QG-lF6iN8"
      }
    },
    {
      "cell_type": "code",
      "source": [
        "nome = input(\"Digite seu nome: \")\n",
        "idade = int(input(\"Digite sua idade: \"))\n",
        "print(f\"Olá, {nome}, você tem {idade} anos.\")"
      ],
      "metadata": {
        "colab": {
          "base_uri": "https://localhost:8080/"
        },
        "id": "r6ZBv1BA6qL4",
        "outputId": "eb9a9228-5bcd-4fa7-c72d-703017259669"
      },
      "execution_count": 8,
      "outputs": [
        {
          "output_type": "stream",
          "name": "stdout",
          "text": [
            "Digite seu nome: Bruno\n",
            "Digite sua idade: 26\n",
            "Olá, Bruno, você tem 26 anos.\n"
          ]
        }
      ]
    },
    {
      "cell_type": "markdown",
      "source": [
        "3. Crie um programa que solicite à pessoa usuária digitar seu nome, idade e altura em metros, e imprima “Olá, [nome], você tem [idade] anos e mede [altura] metros!”."
      ],
      "metadata": {
        "id": "AQEVmDHT6qoE"
      }
    },
    {
      "cell_type": "code",
      "source": [
        "nome = input(\"Digite seu nome: \")\n",
        "idade = int(input(\"Digite sua idade: \"))\n",
        "altura = float(input(\"Digite sua altura em metros: \"))\n",
        "print(f\"Olá, {nome}, você tem {idade} anos e mede {altura} metros!\")"
      ],
      "metadata": {
        "colab": {
          "base_uri": "https://localhost:8080/"
        },
        "id": "o35axMG-Czi7",
        "outputId": "36e442f4-cff3-4d48-ff2e-62a3398e5ebb"
      },
      "execution_count": 9,
      "outputs": [
        {
          "output_type": "stream",
          "name": "stdout",
          "text": [
            "Digite seu nome: Carla\n",
            "Digite sua idade: 29\n",
            "Digite sua altura em metros: 1.70\n",
            "Olá, Carla, você tem 29 anos e mede 1.7 metros!\n"
          ]
        }
      ]
    },
    {
      "cell_type": "markdown",
      "source": [
        "#Calculdadora com operadores\n"
      ],
      "metadata": {
        "id": "IdWu8jo-6wv0"
      }
    },
    {
      "cell_type": "markdown",
      "source": [
        "1. Crie um programa que solicite dois valores numéricos à pessoa usuária e imprima a soma dos dois valores."
      ],
      "metadata": {
        "id": "tiYWwlty65Si"
      }
    },
    {
      "cell_type": "code",
      "source": [
        "numero1 = float(input(\"Digite o primeiro valor: \"))\n",
        "numero2 = float(input(\"Digite o segundo valor: \"))\n",
        "soma = numero1 + numero2\n",
        "print(f\"A soma dos valores é: {soma}\")"
      ],
      "metadata": {
        "colab": {
          "base_uri": "https://localhost:8080/"
        },
        "id": "kwgAanDi6vBP",
        "outputId": "82033e0d-3c5e-492d-ce89-39d5496c5a6e"
      },
      "execution_count": 10,
      "outputs": [
        {
          "output_type": "stream",
          "name": "stdout",
          "text": [
            "Digite o primeiro valor: 6\n",
            "Digite o segundo valor: 8\n",
            "A soma dos valores é: 14.0\n"
          ]
        }
      ]
    },
    {
      "cell_type": "markdown",
      "source": [
        "2. Crie um programa que solicite três valores numéricos à pessoa usuária e imprima a soma dos três valores."
      ],
      "metadata": {
        "id": "g_bisiM067VY"
      }
    },
    {
      "cell_type": "code",
      "source": [
        "numero1 = float(input(\"Digite o primeiro valor: \"))\n",
        "numero2 = float(input(\"Digite o segundo valor: \"))\n",
        "numero3 = float(input(\"Digite o terceiro valor: \"))\n",
        "soma = numero1 + numero2 + numero3\n",
        "print(f\"A soma dos valores é: {soma}\")"
      ],
      "metadata": {
        "colab": {
          "base_uri": "https://localhost:8080/"
        },
        "id": "emeB4yQe7He0",
        "outputId": "d7a4c671-0d09-4681-dd01-1a9644013f17"
      },
      "execution_count": 11,
      "outputs": [
        {
          "output_type": "stream",
          "name": "stdout",
          "text": [
            "Digite o primeiro valor: 6\n",
            "Digite o segundo valor: 9\n",
            "Digite o terceiro valor: 13\n",
            "A soma dos valores é: 28.0\n"
          ]
        }
      ]
    },
    {
      "cell_type": "markdown",
      "source": [
        "3. Crie um programa que solicite dois valores numéricos à pessoa usuária e imprima a subtração do primeiro pelo o segundo valor."
      ],
      "metadata": {
        "id": "-_qsfkix7H6u"
      }
    },
    {
      "cell_type": "code",
      "source": [
        "numero1 = float(input(\"Digite o primeiro valor: \"))\n",
        "numero2 = float(input(\"Digite o segundo valor: \"))\n",
        "subtração = numero1 - numero2\n",
        "print(f\"A subtração dos valores é: {subtração}\")"
      ],
      "metadata": {
        "colab": {
          "base_uri": "https://localhost:8080/"
        },
        "id": "Pp2UWR3V7Qu9",
        "outputId": "01a775e1-e84c-478d-bc75-3bb4d19dc66b"
      },
      "execution_count": 12,
      "outputs": [
        {
          "output_type": "stream",
          "name": "stdout",
          "text": [
            "Digite o primeiro valor: 13\n",
            "Digite o segundo valor: 5\n",
            "A subtração dos valores é: 8.0\n"
          ]
        }
      ]
    },
    {
      "cell_type": "markdown",
      "source": [
        "4. Crie um programa que solicite dois\n",
        "valores numéricos à pessoa usuária e\n",
        "imprima a multiplicação dos dois\n",
        "valores."
      ],
      "metadata": {
        "id": "Z0_KRGpI8uXv"
      }
    },
    {
      "cell_type": "code",
      "source": [
        "numero1 = float(input(\"Digite o primeiro valor: \"))\n",
        "numero2 = float(input(\"Digite o segundo valor: \"))\n",
        "multiplicacao = numero1 * numero2\n",
        "print(f\"A multiplicação dos valores é: {multiplicacao}\")"
      ],
      "metadata": {
        "colab": {
          "base_uri": "https://localhost:8080/"
        },
        "id": "H-tzvC4X8x0U",
        "outputId": "603e7d45-1527-46b9-8a54-a4d9e24fa036"
      },
      "execution_count": 13,
      "outputs": [
        {
          "output_type": "stream",
          "name": "stdout",
          "text": [
            "Digite o primeiro valor: 9\n",
            "Digite o segundo valor: 6\n",
            "A multiplicação dos valores é: 54.0\n"
          ]
        }
      ]
    },
    {
      "cell_type": "markdown",
      "source": [
        "5. Crie um programa que solicite dois valores numéricos, um numerador e um denominador, e realize a divisão entre os dois valores. Deixe claro que o valor do denominador não pode ser 0."
      ],
      "metadata": {
        "id": "setGQZec8161"
      }
    },
    {
      "cell_type": "code",
      "source": [
        "numerador = float(input(\"Digite o numerador: \"))\n",
        "denominador = float(input(\"Digite o denominador (não pode ser 0): \"))\n",
        "\n",
        "# Verifica se o denominador é válido\n",
        "if denominador == 0:\n",
        "    print(\"Erro: o denominador não pode ser 0.\")\n",
        "else:\n",
        "    # Realiza a divisão e exibe o resultado\n",
        "    resultado = numerador / denominador\n",
        "    print(f\"O resultado da divisão é: {resultado}\")"
      ],
      "metadata": {
        "colab": {
          "base_uri": "https://localhost:8080/"
        },
        "id": "VURjldi382xy",
        "outputId": "6e87ffa9-03b5-4b8b-8eb6-ec6fc34ed61d"
      },
      "execution_count": 15,
      "outputs": [
        {
          "output_type": "stream",
          "name": "stdout",
          "text": [
            "Digite o numerador: 9\n",
            "Digite o denominador (não pode ser 0): 3\n",
            "O resultado da divisão é: 3.0\n"
          ]
        }
      ]
    },
    {
      "cell_type": "markdown",
      "source": [
        "6.  Crie um programa que solicite dois valores numéricos, um operador e uma potência, e realize a exponenciação entre esses dois valores."
      ],
      "metadata": {
        "id": "zMlpyTDq7Sj3"
      }
    },
    {
      "cell_type": "code",
      "source": [
        "base = float(input(\"Digite a base: \"))\n",
        "expoente = float(input(\"Digite o expoente: \"))\n",
        "\n",
        "# Calcula a potência\n",
        "resultado = base ** expoente\n",
        "\n",
        "# Exibe o resultado\n",
        "print(f\"O resultado de {base} elevado a {expoente} é: {resultado}\")"
      ],
      "metadata": {
        "colab": {
          "base_uri": "https://localhost:8080/"
        },
        "id": "fX73TEvS7adR",
        "outputId": "5b5bddbe-a083-4e2d-f1a1-751d535e7291"
      },
      "execution_count": 16,
      "outputs": [
        {
          "output_type": "stream",
          "name": "stdout",
          "text": [
            "Digite a base: 9\n",
            "Digite o expoente: 2\n",
            "O resultado de 9.0 elevado a 2.0 é: 81.0\n"
          ]
        }
      ]
    },
    {
      "cell_type": "markdown",
      "source": [
        "7.  Crie um programa que solicite dois\n",
        "valores numéricos, um numerador e um\n",
        "denominador e realize a divisão inteira\n",
        "entre os dois valores. Deixe claro que o valor\n",
        "do denominador não pode ser 0."
      ],
      "metadata": {
        "id": "cAZDV7Jh9FWE"
      }
    },
    {
      "cell_type": "code",
      "source": [
        "numerador = float(input(\"Digite o numerador: \"))\n",
        "denominador = float(input(\"Digite o denominador (não pode ser 0): \"))\n",
        "\n",
        "# Verifica se o denominador é válido\n",
        "if denominador == 0:\n",
        "    print(\"Erro: o denominador não pode ser 0.\")\n",
        "else:\n",
        "    # Realiza a divisão e exibe o resultado\n",
        "    resultado = numerador / denominador\n",
        "    print(f\"O resultado da divisão é: {resultado}\")"
      ],
      "metadata": {
        "colab": {
          "base_uri": "https://localhost:8080/"
        },
        "id": "bL-tuZSW93sK",
        "outputId": "e273dad8-c5ac-4c96-ef03-88d53629a40c"
      },
      "execution_count": 17,
      "outputs": [
        {
          "output_type": "stream",
          "name": "stdout",
          "text": [
            "Digite o numerador: 9\n",
            "Digite o denominador (não pode ser 0): 3\n",
            "O resultado da divisão é: 3.0\n"
          ]
        }
      ]
    },
    {
      "cell_type": "markdown",
      "source": [
        "8. Crie um programa que solicite dois\n",
        "valores numéricos, um numerador e um\n",
        "denominador, e retorne o resto da\n",
        "divisão entre os dois valores. Deixe claro que o valor\n",
        "do denominador não pode ser 0."
      ],
      "metadata": {
        "id": "lyVrA9cg7bKn"
      }
    },
    {
      "cell_type": "code",
      "source": [
        "numerador = float(input(\"Digite o numerador: \"))\n",
        "denominador = float(input(\"Digite o denominador (não pode ser 0): \"))\n",
        "\n",
        "# Verifica se o denominador é válido\n",
        "if denominador == 0:\n",
        "    print(\"Erro: o denominador não pode ser 0.\")\n",
        "else:\n",
        "    # Calcula o resto da divisão e exibe o resultado\n",
        "    resto = numerador % denominador\n",
        "    print(f\"O resto da divisão de {numerador} por {denominador} é: {resto}\")"
      ],
      "metadata": {
        "colab": {
          "base_uri": "https://localhost:8080/"
        },
        "id": "WOPTnZlR7g3e",
        "outputId": "a4177c48-4d5f-4633-8bea-a25236b25552"
      },
      "execution_count": 18,
      "outputs": [
        {
          "output_type": "stream",
          "name": "stdout",
          "text": [
            "Digite o numerador: 9\n",
            "Digite o denominador (não pode ser 0): 2\n",
            "O resto da divisão de 9.0 por 2.0 é: 1.0\n"
          ]
        }
      ]
    },
    {
      "cell_type": "markdown",
      "source": [
        "9.  Crie um código que solicita 3 notas de\n",
        "um estudante e imprima a média das\n",
        "notas."
      ],
      "metadata": {
        "id": "TLEg8vS17h0q"
      }
    },
    {
      "cell_type": "code",
      "source": [
        "nota1 = float(input(\"Digite a primeira nota: \"))\n",
        "nota2 = float(input(\"Digite a segunda nota: \"))\n",
        "nota3 = float(input(\"Digite a terceira nota: \"))\n",
        "\n",
        "# Calcula a média das notas\n",
        "media = (nota1 + nota2 + nota3) / 3\n",
        "\n",
        "# Exibe a média\n",
        "print(f\"A média das notas é: {media:.2f}\")"
      ],
      "metadata": {
        "colab": {
          "base_uri": "https://localhost:8080/"
        },
        "id": "xDKvLQXt8I9G",
        "outputId": "fe0522f0-db72-42b2-9e6f-43f863f92d37"
      },
      "execution_count": 19,
      "outputs": [
        {
          "output_type": "stream",
          "name": "stdout",
          "text": [
            "Digite a primeira nota: 5\n",
            "Digite a segunda nota: 7\n",
            "Digite a terceira nota: 9\n",
            "A média das notas é: 7.00\n"
          ]
        }
      ]
    },
    {
      "cell_type": "markdown",
      "source": [
        "10. Crie um código que calcule e imprima a\n",
        "média ponderada dos números 5, 12, 20 e\n",
        "15 com pesos respectivamente iguais a\n",
        "1, 2, 3 e 4."
      ],
      "metadata": {
        "id": "u1vd4AC-8Jr6"
      }
    },
    {
      "cell_type": "code",
      "source": [
        "valores = [5, 12, 20, 15]\n",
        "pesos = [1, 2, 3, 4]\n",
        "\n",
        "# Calcula a média ponderada diretamente\n",
        "media_ponderada = (5*1 + 12*2 + 20*3 + 15*4) / (1 + 2 + 3 + 4)\n",
        "\n",
        "# Exibe o resultado\n",
        "print(f\"A média ponderada é: {media_ponderada:.2f}\")"
      ],
      "metadata": {
        "colab": {
          "base_uri": "https://localhost:8080/"
        },
        "id": "uBnFddgH-OQu",
        "outputId": "8c62ae90-4a8a-477c-efee-72eb7379c345"
      },
      "execution_count": 20,
      "outputs": [
        {
          "output_type": "stream",
          "name": "stdout",
          "text": [
            "A média ponderada é: 14.90\n"
          ]
        }
      ]
    },
    {
      "cell_type": "markdown",
      "source": [
        "#Editando textos"
      ],
      "metadata": {
        "id": "NvJ46_D6-QUI"
      }
    },
    {
      "cell_type": "markdown",
      "source": [
        "1. Crie uma variável chamada “frase” e\n",
        "atribua a ela uma string de sua\n",
        "escolha. Em seguida, imprima a frase na\n",
        "tela."
      ],
      "metadata": {
        "id": "KJdaisaa-XIc"
      }
    },
    {
      "cell_type": "code",
      "source": [
        "frase = \"A programação é uma ferramenta poderosa.\"\n",
        "\n",
        "# Imprime a frase na tela\n",
        "print(frase)"
      ],
      "metadata": {
        "colab": {
          "base_uri": "https://localhost:8080/"
        },
        "id": "6vdk77x16N8U",
        "outputId": "1c67c2c2-22d9-4a69-c4bb-7da3a07d1155"
      },
      "execution_count": 22,
      "outputs": [
        {
          "output_type": "stream",
          "name": "stdout",
          "text": [
            "A programação é uma ferramenta poderosa.\n"
          ]
        }
      ]
    },
    {
      "cell_type": "markdown",
      "source": [
        "2. Crie um código que solicite uma frase e\n",
        "depois imprima a frase na tela."
      ],
      "metadata": {
        "id": "zKd-WpKC-gBO"
      }
    },
    {
      "cell_type": "code",
      "source": [
        "frase = input(\"Digite uma frase: \")\n",
        "\n",
        "# Imprime a frase na tela\n",
        "print(frase)"
      ],
      "metadata": {
        "colab": {
          "base_uri": "https://localhost:8080/"
        },
        "id": "yh-Qp-eL-nYm",
        "outputId": "a54889d2-ff62-40a5-fb3d-0b342ed70c1b"
      },
      "execution_count": 23,
      "outputs": [
        {
          "output_type": "stream",
          "name": "stdout",
          "text": [
            "Digite uma frase: Olá mundo!\n",
            "Olá mundo!\n"
          ]
        }
      ]
    },
    {
      "cell_type": "markdown",
      "source": [
        "3. Crie um código que solicite uma frase à\n",
        "pessoa usuária e imprima a mesma frase\n",
        "digitada mas com todas as letras\n",
        "maiúsculas."
      ],
      "metadata": {
        "id": "XnPqxsxs-n2_"
      }
    },
    {
      "cell_type": "code",
      "source": [
        "frase = input(\"Digite uma frase: \")\n",
        "\n",
        "# Converte a frase para letras maiúsculas\n",
        "frase_maiuscula = frase.upper()\n",
        "\n",
        "# Imprime a frase em letras maiúsculas\n",
        "print(f\"A frase em maiúsculas é: {frase_maiuscula}\")"
      ],
      "metadata": {
        "colab": {
          "base_uri": "https://localhost:8080/"
        },
        "id": "mIUvbEzk-z4j",
        "outputId": "ffba13ab-2866-4433-bc02-b955cac7e8a6"
      },
      "execution_count": 26,
      "outputs": [
        {
          "output_type": "stream",
          "name": "stdout",
          "text": [
            "Digite uma frase: Olá, seja bem-vindo!\n",
            "A frase em maiúsculas é: OLÁ, SEJA BEM-VINDO!\n"
          ]
        }
      ]
    },
    {
      "cell_type": "markdown",
      "source": [
        "4. Crie um código que solicite uma frase à\n",
        "pessoa usuária e imprima a mesma frase\n",
        "digitada mas com todas as letras\n",
        "minúsculas."
      ],
      "metadata": {
        "id": "kdM3HNNN-zGG"
      }
    },
    {
      "cell_type": "code",
      "source": [
        "frase = input(\"Digite uma frase: \")\n",
        "\n",
        "# Converte a frase para letras maiúsculas\n",
        "frase_minuscula = frase.lower()\n",
        "\n",
        "# Imprime a frase em letras maiúsculas\n",
        "print(f\"A frase em minúsculas é: {frase_minuscula}\")"
      ],
      "metadata": {
        "colab": {
          "base_uri": "https://localhost:8080/"
        },
        "id": "PrO3dmfJ-255",
        "outputId": "bd46ce6d-01df-41ee-a64a-5154700968aa"
      },
      "execution_count": 27,
      "outputs": [
        {
          "output_type": "stream",
          "name": "stdout",
          "text": [
            "Digite uma frase: Olá, qual é seu nome?\n",
            "A frase em minúsculas é: olá, qual é seu nome?\n"
          ]
        }
      ]
    },
    {
      "cell_type": "markdown",
      "source": [
        "5. Crie uma variável chamada “frase” e\n",
        "atribua a ela uma string de sua\n",
        "escolha. Em seguida, imprima a frase\n",
        "sem espaços em branco no início e no fim."
      ],
      "metadata": {
        "id": "bSxM-vUp-2O7"
      }
    },
    {
      "cell_type": "code",
      "source": [
        "frase = \"   Programação é a chave para o futuro!   \"\n",
        "\n",
        "# Remove os espaços em branco no início e no fim da frase\n",
        "frase_sem_espacos = frase.strip()\n",
        "\n",
        "# Imprime a frase sem os espaços\n",
        "print(f\"A frase sem espaços no início e no fim é: '{frase_sem_espacos}'\")\n"
      ],
      "metadata": {
        "colab": {
          "base_uri": "https://localhost:8080/"
        },
        "id": "CHDDlJhk_BHV",
        "outputId": "103f9943-764d-4c77-9f44-7dc9f8ddb034"
      },
      "execution_count": 28,
      "outputs": [
        {
          "output_type": "stream",
          "name": "stdout",
          "text": [
            "A frase sem espaços no início e no fim é: 'Programação é a chave para o futuro!'\n"
          ]
        }
      ]
    },
    {
      "cell_type": "markdown",
      "source": [
        "6. Crie um código que solicite uma frase à\n",
        "pessoa usuária e imprima a mesma frase\n",
        "sem espaços em branco no início e no\n",
        "fim."
      ],
      "metadata": {
        "id": "ySTguVSO_B8m"
      }
    },
    {
      "cell_type": "code",
      "source": [
        "frase = input(\"Digite uma frase: \")\n",
        "\n",
        "# Remove os espaços em branco no início e no fim da frase\n",
        "frase_sem_espacos = frase.strip()\n",
        "\n",
        "# Imprime a frase sem os espaços\n",
        "print(f\"A frase sem espaços no início e no fim é: '{frase_sem_espacos}'\")"
      ],
      "metadata": {
        "colab": {
          "base_uri": "https://localhost:8080/"
        },
        "id": "ghMwWoYF_H3k",
        "outputId": "d12af508-e9d1-4eda-812e-9bb1b6d3a39a"
      },
      "execution_count": 29,
      "outputs": [
        {
          "output_type": "stream",
          "name": "stdout",
          "text": [
            "Digite uma frase:    eu quero viajar!!!   \n",
            "A frase sem espaços no início e no fim é: 'eu quero viajar!!!'\n"
          ]
        }
      ]
    },
    {
      "cell_type": "markdown",
      "source": [
        "7. Crie um código que solicite uma frase à\n",
        "pessoa usuária e imprima a mesma frase\n",
        "sem espaços em branco no início e no\n",
        "fim e em letras minúsculas."
      ],
      "metadata": {
        "id": "is8U0Ikp_IQh"
      }
    },
    {
      "cell_type": "code",
      "source": [
        "frase = input(\"Digite uma frase: \")\n",
        "\n",
        "# Remove os espaços em branco no início e no fim e converte para minúsculas\n",
        "frase_sem_espacos_minuscula = frase.strip().lower()\n",
        "\n",
        "# Imprime a frase processada\n",
        "print(f\"A frase processada é: '{frase_sem_espacos_minuscula}'\")\n"
      ],
      "metadata": {
        "colab": {
          "base_uri": "https://localhost:8080/"
        },
        "id": "s-kYsY7t_U_H",
        "outputId": "3527dc80-9c3d-44bf-c861-711c4b906ada"
      },
      "execution_count": 30,
      "outputs": [
        {
          "output_type": "stream",
          "name": "stdout",
          "text": [
            "Digite uma frase: Olá, tudo bem?      \n",
            "A frase processada é: 'olá, tudo bem?'\n"
          ]
        }
      ]
    },
    {
      "cell_type": "markdown",
      "source": [
        "8. Crie um código que solicite uma frase à\n",
        "pessoa usuária e imprima a mesma frase\n",
        "com todas as vogais “e” trocadas pela\n",
        "letra “f”."
      ],
      "metadata": {
        "id": "Q4_OeFbe_VmF"
      }
    },
    {
      "cell_type": "code",
      "source": [
        "frase = input(\"Digite uma frase: \")\n",
        "\n",
        "# Substitui todas as vogais 'e' por 'f'\n",
        "frase_modificada = frase.replace('e', 'f').replace('E', 'F')\n",
        "\n",
        "# Imprime a frase modificada\n",
        "print(f\"A frase modificada é: '{frase_modificada}'\")"
      ],
      "metadata": {
        "colab": {
          "base_uri": "https://localhost:8080/"
        },
        "id": "AEM-H6_A_Zso",
        "outputId": "d6ece64e-d0af-4ac3-e039-4043a299ea22"
      },
      "execution_count": 31,
      "outputs": [
        {
          "output_type": "stream",
          "name": "stdout",
          "text": [
            "Digite uma frase: eu sei o que Você fez no verão  passado\n",
            "A frase modificada é: 'fu sfi o quf Você ffz no vfrão  passado'\n"
          ]
        }
      ]
    },
    {
      "cell_type": "markdown",
      "source": [
        "9. Crie um código que solicite uma frase à\n",
        "pessoa usuária e imprima a mesma frase\n",
        "com todas as vogais “a” trocadas pela\n",
        "caractere “@”."
      ],
      "metadata": {
        "id": "HPXL3-j0_adH"
      }
    },
    {
      "cell_type": "code",
      "source": [
        "frase = input(\"Digite uma frase: \")\n",
        "\n",
        "# Substitui todas as vogais 'a' por '@'\n",
        "frase_modificada = frase.replace('a', '@').replace('A', '@')\n",
        "\n",
        "# Imprime a frase modificada\n",
        "print(f\"A frase modificada é: '{frase_modificada}'\")"
      ],
      "metadata": {
        "colab": {
          "base_uri": "https://localhost:8080/"
        },
        "id": "BUDqkN2Q_xWf",
        "outputId": "66901475-7887-42f4-d378-b56c011d7dda"
      },
      "execution_count": 32,
      "outputs": [
        {
          "output_type": "stream",
          "name": "stdout",
          "text": [
            "Digite uma frase: A Ana veio me visitar no sábado!\n",
            "A frase modificada é: '@ @n@ veio me visit@r no sáb@do!'\n"
          ]
        }
      ]
    },
    {
      "cell_type": "markdown",
      "source": [
        "10. Crie um código que solicite uma frase à\n",
        "pessoa usuária e imprima a mesma frase\n",
        "com todas as consoantes “s” trocadas\n",
        "pelo caractere “$”."
      ],
      "metadata": {
        "id": "MeADWwNq_6u_"
      }
    },
    {
      "cell_type": "code",
      "source": [
        "frase = input(\"Digite uma frase: \")\n",
        "\n",
        "# Substitui todas as vogais 's' por '$'\n",
        "frase_modificada = frase.replace('s', '$').replace('S', '$')\n",
        "\n",
        "# Imprime a frase modificada\n",
        "print(f\"A frase modificada é: '{frase_modificada}'\")"
      ],
      "metadata": {
        "colab": {
          "base_uri": "https://localhost:8080/"
        },
        "id": "YWtuBWtr_-C4",
        "outputId": "23a944a7-0f76-4a2f-f98c-65b5d862e92e"
      },
      "execution_count": 33,
      "outputs": [
        {
          "output_type": "stream",
          "name": "stdout",
          "text": [
            "Digite uma frase: Sapo não lava o pé, sei não o que ele quer!\n",
            "A frase modificada é: '$apo não lava o pé, $ei não o que ele quer!'\n"
          ]
        }
      ]
    }
  ],
  "metadata": {
    "language_info": {
      "name": "python"
    },
    "colab": {
      "provenance": []
    },
    "kernelspec": {
      "name": "python3",
      "display_name": "Python 3"
    }
  },
  "nbformat": 4,
  "nbformat_minor": 0
}