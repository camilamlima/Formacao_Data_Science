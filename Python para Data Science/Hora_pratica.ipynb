{
  "cells": [
    {
      "cell_type": "markdown",
      "source": [
        "\n",
        "#Coleta e amostragem de dados"
      ],
      "metadata": {
        "id": "8DvsD4aQ6Om7"
      }
    },
    {
      "cell_type": "markdown",
      "source": [
        "1. Crie um programa que solicite à pessoa usuária digitar seu nome, e imprima “Olá, [nome]!”."
      ],
      "metadata": {
        "id": "OxaCtgSe6bqZ"
      }
    },
    {
      "cell_type": "code",
      "source": [],
      "metadata": {
        "id": "_Kcn6P1c6hks"
      },
      "execution_count": null,
      "outputs": []
    },
    {
      "cell_type": "markdown",
      "source": [
        "2. Crie um programa que solicite à pessoa usuária digitar seu nome e idade, e imprima “Olá, [nome], você tem [idade] anos.”."
      ],
      "metadata": {
        "id": "tw_QG-lF6iN8"
      }
    },
    {
      "cell_type": "code",
      "source": [],
      "metadata": {
        "id": "r6ZBv1BA6qL4"
      },
      "execution_count": null,
      "outputs": []
    },
    {
      "cell_type": "markdown",
      "source": [
        "3. Crie um programa que solicite à pessoa usuária digitar seu nome, idade e altura em metros, e imprima “Olá, [nome], você tem [idade] anos e mede [altura] metros!”."
      ],
      "metadata": {
        "id": "AQEVmDHT6qoE"
      }
    },
    {
      "cell_type": "markdown",
      "source": [
        "#Calculdadora com operadores\n"
      ],
      "metadata": {
        "id": "IdWu8jo-6wv0"
      }
    },
    {
      "cell_type": "markdown",
      "source": [
        "1. Crie um programa que solicite dois valores numéricos à pessoa usuária e imprima a soma dos dois valores."
      ],
      "metadata": {
        "id": "tiYWwlty65Si"
      }
    },
    {
      "cell_type": "code",
      "source": [],
      "metadata": {
        "id": "kwgAanDi6vBP"
      },
      "execution_count": null,
      "outputs": []
    },
    {
      "cell_type": "markdown",
      "source": [
        "2. Crie um programa que solicite três valores numéricos à pessoa usuária e imprima a soma dos três valores."
      ],
      "metadata": {
        "id": "g_bisiM067VY"
      }
    },
    {
      "cell_type": "code",
      "source": [],
      "metadata": {
        "id": "emeB4yQe7He0"
      },
      "execution_count": null,
      "outputs": []
    },
    {
      "cell_type": "markdown",
      "source": [
        "3. Crie um programa que solicite dois valores numéricos à pessoa usuária e imprima a subtração do primeiro pelo o segundo valor."
      ],
      "metadata": {
        "id": "-_qsfkix7H6u"
      }
    },
    {
      "cell_type": "code",
      "source": [],
      "metadata": {
        "id": "Pp2UWR3V7Qu9"
      },
      "execution_count": null,
      "outputs": []
    },
    {
      "cell_type": "markdown",
      "source": [
        "4. Crie um programa que solicite dois\n",
        "valores numéricos à pessoa usuária e\n",
        "imprima a multiplicação dos dois\n",
        "valores."
      ],
      "metadata": {
        "id": "Z0_KRGpI8uXv"
      }
    },
    {
      "cell_type": "code",
      "source": [],
      "metadata": {
        "id": "H-tzvC4X8x0U"
      },
      "execution_count": null,
      "outputs": []
    },
    {
      "cell_type": "markdown",
      "source": [
        "5. Crie um programa que solicite dois valores numéricos, um numerador e um denominador, e realize a divisão entre os dois valores. Deixe claro que o valor do denominador não pode ser 0."
      ],
      "metadata": {
        "id": "setGQZec8161"
      }
    },
    {
      "cell_type": "code",
      "source": [],
      "metadata": {
        "id": "VURjldi382xy"
      },
      "execution_count": null,
      "outputs": []
    },
    {
      "cell_type": "markdown",
      "source": [
        "6.  Crie um programa que solicite dois valores numéricos, um operador e uma potência, e realize a exponenciação entre esses dois valores."
      ],
      "metadata": {
        "id": "zMlpyTDq7Sj3"
      }
    },
    {
      "cell_type": "code",
      "source": [],
      "metadata": {
        "id": "fX73TEvS7adR"
      },
      "execution_count": null,
      "outputs": []
    },
    {
      "cell_type": "markdown",
      "source": [
        "7.  Crie um programa que solicite dois\n",
        "valores numéricos, um numerador e um\n",
        "denominador e realize a divisão inteira\n",
        "entre os dois valores. Deixe claro que o valor\n",
        "do denominador não pode ser 0."
      ],
      "metadata": {
        "id": "cAZDV7Jh9FWE"
      }
    },
    {
      "cell_type": "code",
      "source": [],
      "metadata": {
        "id": "bL-tuZSW93sK"
      },
      "execution_count": null,
      "outputs": []
    },
    {
      "cell_type": "markdown",
      "source": [
        "8. Crie um programa que solicite dois\n",
        "valores numéricos, um numerador e um\n",
        "denominador, e retorne o resto da\n",
        "divisão entre os dois valores. Deixe claro que o valor\n",
        "do denominador não pode ser 0."
      ],
      "metadata": {
        "id": "lyVrA9cg7bKn"
      }
    },
    {
      "cell_type": "code",
      "source": [],
      "metadata": {
        "id": "WOPTnZlR7g3e"
      },
      "execution_count": null,
      "outputs": []
    },
    {
      "cell_type": "markdown",
      "source": [
        "9.  Crie um código que solicita 3 notas de\n",
        "um estudante e imprima a média das\n",
        "notas."
      ],
      "metadata": {
        "id": "TLEg8vS17h0q"
      }
    },
    {
      "cell_type": "code",
      "source": [],
      "metadata": {
        "id": "xDKvLQXt8I9G"
      },
      "execution_count": null,
      "outputs": []
    },
    {
      "cell_type": "markdown",
      "source": [
        "10. Crie um código que calcule e imprima a\n",
        "média ponderada dos números 5, 12, 20 e\n",
        "15 com pesos respectivamente iguais a\n",
        "1, 2, 3 e 4."
      ],
      "metadata": {
        "id": "u1vd4AC-8Jr6"
      }
    },
    {
      "cell_type": "code",
      "source": [],
      "metadata": {
        "id": "uBnFddgH-OQu"
      },
      "execution_count": null,
      "outputs": []
    },
    {
      "cell_type": "markdown",
      "source": [
        "#Editando textos"
      ],
      "metadata": {
        "id": "NvJ46_D6-QUI"
      }
    },
    {
      "cell_type": "markdown",
      "source": [
        "1. Crie uma variável chamada “frase” e\n",
        "atribua a ela uma string de sua\n",
        "escolha. Em seguida, imprima a frase na\n",
        "tela."
      ],
      "metadata": {
        "id": "KJdaisaa-XIc"
      }
    },
    {
      "cell_type": "code",
      "source": [],
      "metadata": {
        "id": "6vdk77x16N8U"
      },
      "execution_count": null,
      "outputs": []
    },
    {
      "cell_type": "markdown",
      "source": [
        "2. Crie um código que solicite uma frase e\n",
        "depois imprima a frase na tela."
      ],
      "metadata": {
        "id": "zKd-WpKC-gBO"
      }
    },
    {
      "cell_type": "code",
      "source": [],
      "metadata": {
        "id": "yh-Qp-eL-nYm"
      },
      "execution_count": null,
      "outputs": []
    },
    {
      "cell_type": "markdown",
      "source": [
        "3. Crie um código que solicite uma frase à\n",
        "pessoa usuária e imprima a mesma frase\n",
        "digitada mas com todas as letras\n",
        "maiúsculas."
      ],
      "metadata": {
        "id": "XnPqxsxs-n2_"
      }
    },
    {
      "cell_type": "code",
      "source": [],
      "metadata": {
        "id": "mIUvbEzk-z4j"
      },
      "execution_count": null,
      "outputs": []
    },
    {
      "cell_type": "markdown",
      "source": [
        "4. Crie um código que solicite uma frase à\n",
        "pessoa usuária e imprima a mesma frase\n",
        "digitada mas com todas as letras\n",
        "minúsculas."
      ],
      "metadata": {
        "id": "kdM3HNNN-zGG"
      }
    },
    {
      "cell_type": "code",
      "source": [],
      "metadata": {
        "id": "PrO3dmfJ-255"
      },
      "execution_count": null,
      "outputs": []
    },
    {
      "cell_type": "markdown",
      "source": [
        "5. Crie uma variável chamada “frase” e\n",
        "atribua a ela uma string de sua\n",
        "escolha. Em seguida, imprima a frase\n",
        "sem espaços em branco no início e no fim."
      ],
      "metadata": {
        "id": "bSxM-vUp-2O7"
      }
    },
    {
      "cell_type": "code",
      "source": [],
      "metadata": {
        "id": "CHDDlJhk_BHV"
      },
      "execution_count": null,
      "outputs": []
    },
    {
      "cell_type": "markdown",
      "source": [
        "6. Crie um código que solicite uma frase à\n",
        "pessoa usuária e imprima a mesma frase\n",
        "sem espaços em branco no início e no\n",
        "fim."
      ],
      "metadata": {
        "id": "ySTguVSO_B8m"
      }
    },
    {
      "cell_type": "code",
      "source": [],
      "metadata": {
        "id": "ghMwWoYF_H3k"
      },
      "execution_count": null,
      "outputs": []
    },
    {
      "cell_type": "markdown",
      "source": [
        "7. Crie um código que solicite uma frase à\n",
        "pessoa usuária e imprima a mesma frase\n",
        "sem espaços em branco no início e no\n",
        "fim e em letras minúsculas."
      ],
      "metadata": {
        "id": "is8U0Ikp_IQh"
      }
    },
    {
      "cell_type": "code",
      "source": [],
      "metadata": {
        "id": "s-kYsY7t_U_H"
      },
      "execution_count": null,
      "outputs": []
    },
    {
      "cell_type": "markdown",
      "source": [
        "8. Crie um código que solicite uma frase à\n",
        "pessoa usuária e imprima a mesma frase\n",
        "com todas as vogais “e” trocadas pela\n",
        "letra “f”."
      ],
      "metadata": {
        "id": "Q4_OeFbe_VmF"
      }
    },
    {
      "cell_type": "code",
      "source": [],
      "metadata": {
        "id": "AEM-H6_A_Zso"
      },
      "execution_count": null,
      "outputs": []
    },
    {
      "cell_type": "markdown",
      "source": [
        "9. Crie um código que solicite uma frase à\n",
        "pessoa usuária e imprima a mesma frase\n",
        "com todas as vogais “a” trocadas pela\n",
        "caractere “@”."
      ],
      "metadata": {
        "id": "HPXL3-j0_adH"
      }
    },
    {
      "cell_type": "code",
      "source": [],
      "metadata": {
        "id": "BUDqkN2Q_xWf"
      },
      "execution_count": null,
      "outputs": []
    },
    {
      "cell_type": "markdown",
      "source": [
        "10. Crie um código que solicite uma frase à\n",
        "pessoa usuária e imprima a mesma frase\n",
        "com todas as consoantes “s” trocadas\n",
        "pelo caractere “$”."
      ],
      "metadata": {
        "id": "MeADWwNq_6u_"
      }
    },
    {
      "cell_type": "code",
      "source": [],
      "metadata": {
        "id": "YWtuBWtr_-C4"
      },
      "execution_count": null,
      "outputs": []
    }
  ],
  "metadata": {
    "language_info": {
      "name": "python"
    },
    "colab": {
      "provenance": []
    }
  },
  "nbformat": 4,
  "nbformat_minor": 0
}