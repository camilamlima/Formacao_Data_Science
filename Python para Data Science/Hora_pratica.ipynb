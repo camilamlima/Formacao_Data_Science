{
 "cells": [
  {
   "cell_type": "markdown",
   "metadata": {},
   "source": [
    "Coleta e amostragem de dados\n",
    "Crie um programa que solicite à pessoa usuária digitar seu nome, e imprima “Olá, [nome]!”.\n",
    "Crie um programa que solicite à pessoa usuária digitar seu nome e idade, e imprima “Olá, [nome], você tem [idade] anos.”.\n",
    "Crie um programa que solicite à pessoa usuária digitar seu nome, idade e altura em metros, e imprima “Olá, [nome], você tem [idade] anos e mede [altura] metros!”.\n",
    "\n",
    "\n",
    "\n",
    "\n",
    "\n",
    "\n",
    "\n",
    "\n",
    "\n",
    "\n",
    "\n",
    "\n",
    "\n",
    "\n",
    "\n",
    "\n",
    "\n",
    "\n",
    "\n",
    "\n",
    "\n",
    "\n"
   ]
  },
  {
   "cell_type": "markdown",
   "metadata": {},
   "source": [
    "Calculadora com operadores\n",
    "Crie um programa que solicite dois valores numéricos à pessoa usuária e imprima a soma dos dois valores.\n",
    "Crie um programa que solicite três valores numéricos à pessoa usuária e imprima a soma dos três valores.\n",
    "Crie um programa que solicite dois valores numéricos à pessoa usuária e imprima a subtração do primeiro pelo o segundo \n",
    "valor.\n",
    "Crie um programa que solicite dois valores numéricos à pessoa usuária e imprima a multiplicação dos dois valores.\n",
    "Crie um programa que solicite dois valores numéricos, um numerador e um denominador, e realize a divisão entre os dois \n",
    "valores. Deixe claro que o valor do denominador não pode ser 0.\n",
    "Crie um programa que solicite dois valores numéricos, um operador e uma potência, e realize a exponenciação entre esses \n",
    "dois valores.\n",
    "Crie um programa que solicite dois valores numéricos, um numerador e um denominador e realize a divisão inteira entre os \n",
    "dois valores. Deixe claro que o valor do denominador não pode ser 0.\n",
    "Crie um programa que solicite dois valores numéricos, um numerador e um denominador, e retorne o resto da divisão entre os \n",
    "dois valores. Deixe claro que o valor do denominador não pode ser 0.\n",
    "Crie um código que solicita 3 notas de um estudante e imprima a média das notas.\n",
    "Crie um código que calcule e imprima a média ponderada dos números 5, 12, 20 e 15 com pesos respectivamente iguais a 1, 2, \n",
    "3 e 4."
   ]
  },
  {
   "cell_type": "markdown",
   "metadata": {},
   "source": [
    "Editando textos\n",
    "Crie uma variável chamada “frase” e atribua a ela uma string de sua escolha. Em seguida, imprima a frase na tela.\n",
    "Crie um código que solicite uma frase e depois imprima a frase na tela.\n",
    "Crie um código que solicite uma frase à pessoa usuária e imprima a mesma frase digitada mas com todas as letras maiúsculas.\n",
    "Crie um código que solicite uma frase à pessoa usuária e imprima a mesma frase digitada mas com todas as letras minúsculas.\n",
    "Crie uma variável chamada “frase” e atribua a ela uma string de sua escolha. Em seguida, imprima a frase sem espaços em \n",
    "branco no início e no fim.\n",
    "Crie um código que solicite uma frase à pessoa usuária e imprima a mesma frase sem espaços em branco no início e no fim.\n",
    "Crie um código que solicite uma frase à pessoa usuária e imprima a mesma frase sem espaços em branco no início e no fim e \n",
    "em letras minúsculas.\n",
    "Crie um código que solicite uma frase à pessoa usuária e imprima a mesma frase com todas as vogais “e” trocadas pela letra \n",
    "“f”.\n",
    "Crie um código que solicite uma frase à pessoa usuária e imprima a mesma frase com todas as vogais “a” trocadas pela \n",
    "caractere “@”.\n",
    "Crie um código que solicite uma frase à pessoa usuária e imprima a mesma frase com todas as consoantes “s” trocadas pelo \n",
    "caractere “$”."
   ]
  }
 ],
 "metadata": {
  "language_info": {
   "name": "python"
  }
 },
 "nbformat": 4,
 "nbformat_minor": 2
}
