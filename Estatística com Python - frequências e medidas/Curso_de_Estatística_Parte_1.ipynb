{
 "cells": [
  {
   "cell_type": "code",
   "execution_count": null,
   "metadata": {
    "vscode": {
     "languageId": "plaintext"
    }
   },
   "outputs": [],
   "source": [
    "import pandas as pd\n",
    "import numpy\n",
    "import seaborn as sns\n",
    "import scipy"
   ]
  },
  {
   "cell_type": "code",
   "execution_count": null,
   "metadata": {
    "vscode": {
     "languageId": "plaintext"
    }
   },
   "outputs": [],
   "source": [
    "print('Versão do pandas - > %s' % pandas.__version__)\n",
    "print('Versão do numpy - > %s' % numpy.__version__)\n",
    "print('Versão do seaborn - > %s' % seaborn.__version__)\n",
    "print('Versão do scipy - > %s' % scipy.__version__)\n",
    "\n"
   ]
  }
 ],
 "metadata": {
  "language_info": {
   "name": "python"
  }
 },
 "nbformat": 4,
 "nbformat_minor": 2
}
